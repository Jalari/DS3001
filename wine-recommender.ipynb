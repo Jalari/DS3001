{
 "cells": [
  {
   "cell_type": "code",
   "execution_count": 2,
   "metadata": {},
   "outputs": [],
   "source": [
    "import pandas as pd\n",
    "import numpy as np\n",
    "import matplotlib.pyplot as plt\n",
    "import seaborn as sns\n",
    "from wordcloud import WordCloud,STOPWORDS\n",
    "import missingno as msno\n",
    "import squarify\n",
    "\n",
    "%matplotlib inline\n",
    "plt.style.use('fivethirtyeight')\n",
    "plt.rcParams.update({'font.size':12})"
   ]
  },
  {
   "cell_type": "code",
   "execution_count": 9,
   "metadata": {},
   "outputs": [
    {
     "name": "stdout",
     "output_type": "stream",
     "text": [
      "Number of rows and columns: (280901, 13)\n"
     ]
    }
   ],
   "source": [
    "#path = 'dataset/'\n",
    "path = 'wine-reviews/'\n",
    "wine_150k = pd.read_csv(path + 'winemag-data_first150k.csv',index_col=0)\n",
    "wine_130k = pd.read_csv(path + 'winemag-data-130k-v2.csv',index_col=0)\n",
    "wine = pd.concat([wine_150k,wine_130k],axis=0)\n",
    "#wine = wine_150k\n",
    "print(\"Number of rows and columns:\",wine.shape)"
   ]
  },
  {
   "cell_type": "code",
   "execution_count": 4,
   "metadata": {},
   "outputs": [
    {
     "data": {
      "text/plain": [
       "country                      68\n",
       "description                   0\n",
       "designation               83200\n",
       "points                        0\n",
       "price                     22691\n",
       "province                     68\n",
       "region_1                  46307\n",
       "region_2                 169437\n",
       "variety                       1\n",
       "winery                        0\n",
       "taster_name              177174\n",
       "taster_twitter_handle    182143\n",
       "title                    150930\n",
       "dtype: int64"
      ]
     },
     "execution_count": 4,
     "metadata": {},
     "output_type": "execute_result"
    }
   ],
   "source": [
    "wine.head()\n",
    "wine.isna().sum()# 280901"
   ]
  },
  {
   "cell_type": "code",
   "execution_count": 10,
   "metadata": {},
   "outputs": [
    {
     "data": {
      "text/plain": [
       "country            0\n",
       "description        0\n",
       "designation        0\n",
       "points             0\n",
       "price          17114\n",
       "province           0\n",
       "region_1           0\n",
       "region_2           0\n",
       "variety            0\n",
       "winery             0\n",
       "title              0\n",
       "dtype: int64"
      ]
     },
     "execution_count": 10,
     "metadata": {},
     "output_type": "execute_result"
    }
   ],
   "source": [
    "# drop columns\n",
    "wine.drop(columns=['taster_name','taster_twitter_handle'], inplace=True)\n",
    "# drop duplicates\n",
    "wine.drop_duplicates(inplace=True)\n",
    "# add \"Unknown\" to missing values in the categories with text\n",
    "wine.country.fillna(\"Unknown\",inplace=True)\n",
    "wine.designation.fillna(\"Unknown\",inplace=True)\n",
    "wine.province.fillna(\"Unknown\",inplace=True)\n",
    "wine.region_1.fillna(\"Unknown\",inplace=True)\n",
    "wine.region_2.fillna(\"Unknown\",inplace=True)\n",
    "wine.title.fillna(\"Unknown\",inplace=True)\n",
    "# there is only one row with missing variety\n",
    "wine.drop(wine[wine.variety.isna()].index, inplace=True)\n",
    "\n",
    "wine.isna().sum() #86909"
   ]
  },
  {
   "cell_type": "code",
   "execution_count": 6,
   "metadata": {},
   "outputs": [
    {
     "data": {
      "text/plain": [
       "country\n",
       "Albania                   20.0\n",
       "Argentina                 15.0\n",
       "Armenia                   14.5\n",
       "Australia                 20.0\n",
       "Austria                   25.0\n",
       "Bosnia and Herzegovina    13.0\n",
       "Brazil                    20.5\n",
       "Bulgaria                  12.0\n",
       "Canada                    30.0\n",
       "Chile                     15.0\n",
       "China                     18.0\n",
       "Croatia                   20.0\n",
       "Cyprus                    16.0\n",
       "Czech Republic            18.0\n",
       "Egypt                      NaN\n",
       "England                   50.0\n",
       "France                    25.0\n",
       "Georgia                   17.0\n",
       "Germany                   26.0\n",
       "Greece                    19.0\n",
       "Hungary                   25.0\n",
       "India                     12.0\n",
       "Israel                    25.0\n",
       "Italy                     28.0\n",
       "Japan                     24.0\n",
       "Lebanon                   22.0\n",
       "Lithuania                 10.0\n",
       "Luxembourg                28.0\n",
       "Macedonia                 15.0\n",
       "Mexico                    23.0\n",
       "Moldova                   13.0\n",
       "Montenegro                10.0\n",
       "Morocco                   18.0\n",
       "New Zealand               20.0\n",
       "Peru                      14.5\n",
       "Portugal                  17.0\n",
       "Romania                   10.0\n",
       "Serbia                    22.0\n",
       "Slovakia                  16.0\n",
       "Slovenia                  23.0\n",
       "South Africa              18.0\n",
       "South Korea               13.5\n",
       "Spain                     18.0\n",
       "Switzerland               29.0\n",
       "Tunisia                    NaN\n",
       "Turkey                    20.0\n",
       "US                        30.0\n",
       "US-France                 50.0\n",
       "Ukraine                   10.0\n",
       "Unknown                   24.5\n",
       "Uruguay                   20.0\n",
       "Name: price, dtype: float64"
      ]
     },
     "execution_count": 6,
     "metadata": {},
     "output_type": "execute_result"
    }
   ],
   "source": [
    "medians = wine.groupby(['country']).price.median()\n",
    "medians"
   ]
  },
  {
   "cell_type": "code",
   "execution_count": 12,
   "metadata": {},
   "outputs": [
    {
     "name": "stdout",
     "output_type": "stream",
     "text": [
      "28.0\n",
      "28.0\n",
      "country        0\n",
      "description    0\n",
      "designation    0\n",
      "points         0\n",
      "price          6\n",
      "province       0\n",
      "region_1       0\n",
      "region_2       0\n",
      "variety        0\n",
      "winery         0\n",
      "title          0\n",
      "dtype: int64\n"
     ]
    }
   ],
   "source": [
    "# TODO BECAREFUL WITH \"UNKNOWN\", what to do with rows with no countries?\n",
    "\n",
    "# Get the median price per country and fill n/a price values based on their country\n",
    "print(wine.iloc[32]['price'])\n",
    "wine['price'] = wine['price'].fillna(wine.groupby('country')['price'].transform('median'))\n",
    "print(wine.iloc[32]['price'])\n",
    "print(wine.isna().sum())"
   ]
  },
  {
   "cell_type": "code",
   "execution_count": 8,
   "metadata": {},
   "outputs": [],
   "source": []
  }
 ],
 "metadata": {
  "kernelspec": {
   "display_name": "Python 3",
   "language": "python",
   "name": "python3"
  },
  "language_info": {
   "codemirror_mode": {
    "name": "ipython",
    "version": 3
   },
   "file_extension": ".py",
   "mimetype": "text/x-python",
   "name": "python",
   "nbconvert_exporter": "python",
   "pygments_lexer": "ipython3",
   "version": "3.7.6"
  }
 },
 "nbformat": 4,
 "nbformat_minor": 4
}
