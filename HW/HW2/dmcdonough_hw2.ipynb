{
 "cells": [
  {
   "cell_type": "markdown",
   "metadata": {},
   "source": [
    "# Linear Regression\n",
    "\n",
    "The goal of this assignment is to build a linear regression model."
   ]
  },
  {
   "cell_type": "code",
   "execution_count": 3,
   "metadata": {},
   "outputs": [],
   "source": [
    "%matplotlib inline\n",
    "\n",
    "#imports\n",
    "import numpy as np\n",
    "import matplotlib.pyplot as plt"
   ]
  },
  {
   "cell_type": "markdown",
   "metadata": {
    "collapsed": true
   },
   "source": [
    "#### Import the training set and plot a figure\n",
    "Load a training set ('training.csv') with two attributes: (1) the amount of hours studied and (2) the test scores. The first column is a feature attribute and the second column is the target attribute.\n",
    "Then, plot a figure. X-axis is the amout of hours studied and Y-axis is the test scores."
   ]
  },
  {
   "cell_type": "code",
   "execution_count": 13,
   "metadata": {},
   "outputs": [
    {
     "data": {
      "image/png": "[encoded data removed]",
      "text/plain": [
       "<Figure size 432x288 with 1 Axes>"
      ]
     },
     "metadata": {
      "needs_background": "light"
     },
     "output_type": "display_data"
    }
   ],
   "source": [
    "# Your code starts here \n",
    "#   Please add comments or text cells in between to explain the general idea of each block of the code.\n",
    "#   Please feel free to add more cells below this cell if necessary\n",
    "\n",
    "#1. load the training data\n",
    "\n",
    "instances = np.genfromtxt('training.csv', delimiter=',')\n",
    "\n",
    "#2. draw a scatter plot\n",
    "\n",
    "\n",
    "hoursstudied = instances[:,0]\n",
    "testscores = instances[:,1]\n",
    "\n",
    "plt.scatter(hoursstudied, testscores, s=80)\n",
    "plt.show()\n",
    "\n"
   ]
  },
  {
   "cell_type": "markdown",
   "metadata": {},
   "source": [
    "#### the following hyperparameters are given (no change is required)"
   ]
  },
  {
   "cell_type": "code",
   "execution_count": 14,
   "metadata": {},
   "outputs": [],
   "source": [
    "#hyperparamters\n",
    "learning_rate = 0.0001 #this is alpha in my slide \n",
    "initial_b = 0 #this is initial theta_0 \n",
    "initial_w = 0 #this is initial theta_1\n",
    "num_iterations = 20 #the number of iterations to adjust"
   ]
  },
  {
   "cell_type": "markdown",
   "metadata": {},
   "source": [
    "#### Define cost function"
   ]
  },
  {
   "cell_type": "code",
   "execution_count": 27,
   "metadata": {},
   "outputs": [],
   "source": [
    "#input: b, w, and loaded traning set (i.e., instances)\n",
    "#output: return the average of squared error (i.e., cost / (2 * number of instances) as we showed in class)\n",
    "def compute_cost(b, w, instances):  \n",
    "    # Your code starts here\n",
    "    #   Please add comments or text cells in between to explain the general idea of each block of the code.\n",
    "    #   Please feel free to add more cells below this cell if necessary\n",
    "    cost = 0\n",
    "    n = len(instances)\n",
    "    \n",
    "    for instance in instances:\n",
    "        \n",
    "        h_x = b+(w*instance[0])\n",
    "        y = instance[1]\n",
    "        \n",
    "        cost = (h_x-y) ** 2\n",
    "        \n",
    "    \n",
    "    \n",
    "    return cost/(2*n)\n"
   ]
  },
  {
   "cell_type": "markdown",
   "metadata": {},
   "source": [
    "#### Define Gradient Descent function to update parameter values (w, b) by their gradients (no change is required)"
   ]
  },
  {
   "cell_type": "code",
   "execution_count": 28,
   "metadata": {},
   "outputs": [],
   "source": [
    "#input: current b, current w, instances, learning_rate\n",
    "#output: return updated b and w\n",
    "def step_gradient(b_current, w_current, instances, learning_rate):\n",
    "    w_gradient = 0\n",
    "    b_gradient = 0\n",
    "    N = float(len(instances))\n",
    "\n",
    "    #Calculate Gradient\n",
    "    for i in range(0, len(instances)):\n",
    "        x = instances[i, 0]\n",
    "        y = instances[i, 1]\n",
    "        w_gradient += (1/N) * x * ((w_current*x + b_current) - y)\n",
    "        b_gradient += (1/N) * 1 * ((w_current*x + b_current) - y)\n",
    "    \n",
    "    #Update current w and b\n",
    "    w_updated = w_current - learning_rate * w_gradient\n",
    "    b_updated = b_current - learning_rate * b_gradient\n",
    "\n",
    "    #Return updated parameters\n",
    "    return b_updated, w_updated\n"
   ]
  },
  {
   "cell_type": "markdown",
   "metadata": {},
   "source": [
    "#### Define Gradient Descent Runner function\n",
    "In this function, you will run step_gradient function for the number of iterations to gradually reduce cost in each iteration. In addition, in each iteration, compute current cost (i.e., error rate) and store the current cost into a list (cost_list)."
   ]
  },
  {
   "cell_type": "code",
   "execution_count": 29,
   "metadata": {},
   "outputs": [],
   "source": [
    "#input: instance, current b, current w, learning rate, and number of iterations\n",
    "#output: return final b, final w and costs (i.e., a list storing cost in each iteration)\n",
    "\n",
    "def gradient_descent_runner(instances, current_b, current_w, learning_rate, num_iterations):\n",
    "    b = current_b\n",
    "    w = current_w\n",
    "    cost_list = [] #store cost in each iteration\n",
    "    \n",
    "    # Your code starts here\n",
    "    #   Please add comments or text cells in between to explain the general idea of each block of the code.\n",
    "    #   Please feel free to add more cells below this cell if necessary\n",
    "    for iteration in range(num_iterations):\n",
    "        cost = compute_cost(b, w, instances)\n",
    "        cost_list.append(cost)\n",
    "        b, w = step_gradient(b, w, instances, learning_rate)\n",
    "        \n",
    "            \n",
    "    return [b, w, cost_list]"
   ]
  },
  {
   "cell_type": "markdown",
   "metadata": {},
   "source": [
    "#### Run gradient_descent_runner() to get optimized parameters b and w (no change is required)"
   ]
  },
  {
   "cell_type": "code",
   "execution_count": 30,
   "metadata": {},
   "outputs": [
    {
     "name": "stdout",
     "output_type": "stream",
     "text": [
      "Optimized b: 0.029234361875224105\n",
      "Optimized w: 1.4699367981889162\n",
      "Minimized cost: 0.033810385286253936\n"
     ]
    }
   ],
   "source": [
    "b, w, cost_list = gradient_descent_runner(instances, initial_b, initial_w, learning_rate, num_iterations)\n",
    "\n",
    "#Print optimized parameters\n",
    "print ('Optimized b:', b)\n",
    "print ('Optimized w:', w)\n",
    "\n",
    "#Print error with optimized parameters\n",
    "print ('Minimized cost:', compute_cost(b, w, instances))"
   ]
  },
  {
   "cell_type": "markdown",
   "metadata": {},
   "source": [
    "#### Plot a figure to show how cost (i.e., average cost) has been changed during the iterations\n",
    "X-axis is each iteration\n",
    "Y-axis is cost in the iteration"
   ]
  },
  {
   "cell_type": "code",
   "execution_count": 31,
   "metadata": {
    "scrolled": true
   },
   "outputs": [
    {
     "data": {
      "image/png": "[encoded data removed]",
      "text/plain": [
       "<Figure size 432x288 with 1 Axes>"
      ]
     },
     "metadata": {
      "needs_background": "light"
     },
     "output_type": "display_data"
    }
   ],
   "source": [
    "# Your code starts here \n",
    "#   Please add comments or text cells in between to explain the general idea of each block of the code.\n",
    "#   Please feel free to add more cells below this cell if necessary\n",
    "#hint: use cost_list\n",
    "\n",
    "y = cost_list\n",
    "x = list(range(len(cost_list)))\n",
    "\n",
    "plt.scatter(x, y, s=80)\n",
    "plt.show()\n",
    "\n",
    "\n",
    "\n"
   ]
  },
  {
   "cell_type": "markdown",
   "metadata": {},
   "source": [
    "#### Plot a line of best fit with instances\n",
    "Plot a scatter plot of the training set with a line of the best fit (i.e., your linear regression model/function)"
   ]
  },
  {
   "cell_type": "code",
   "execution_count": 36,
   "metadata": {},
   "outputs": [
    {
     "data": {
      "image/png": "[encoded data removed]",
      "text/plain": [
       "<Figure size 432x288 with 1 Axes>"
      ]
     },
     "metadata": {
      "needs_background": "light"
     },
     "output_type": "display_data"
    }
   ],
   "source": [
    "# Your code starts here\n",
    "#   Please add comments or text cells in between to explain the general idea of each block of the code.\n",
    "#   Please feel free to add more cells below this cell if necessary\n",
    "\n",
    "plt.scatter(hoursstudied, testscores, s=80)\n",
    "plt.plot(hoursstudied, b + w * hoursstudied, '-',c='red')\n",
    "plt.show()\n",
    "\n",
    "\n"
   ]
  },
  {
   "cell_type": "markdown",
   "metadata": {},
   "source": [
    "\n",
    "#### Import the test  set and predict each student's test score\n",
    "\n",
    "Load the test set and predict each instance's test score by using your regression model\n",
    "and then print out the predicted results in a table\n",
    "Although the current test.csv contains the ground truth (i.e., each student's \"true\" test score), we assume we don't know it and want to predict it given each student's hours of study"
   ]
  },
  {
   "cell_type": "code",
   "execution_count": 54,
   "metadata": {},
   "outputs": [
    {
     "name": "stdout",
     "output_type": "stream",
     "text": [
      "   Hours Studied  Predicted Score  Actual Score\n",
      "0      50.030174        73.570429     81.536991\n",
      "1      49.239765        72.408577     72.111832\n",
      "2      50.039576        73.584248     85.232007\n",
      "3      48.149859        70.806484     66.224958\n",
      "4      25.128485        36.966519     53.454394\n"
     ]
    }
   ],
   "source": [
    "# Your code starts here \n",
    "#   Please add comments or text cells in between to explain the general idea of each block of the code.\n",
    "#   Please feel free to add more cells below this cell if necessary\n",
    "\n",
    "test_instances = np.genfromtxt('test.csv', delimiter=',')\n",
    "test_hoursstudied = test_instances[:,0]\n",
    "pred_testscores =   b + w * test_hoursstudied\n",
    "true_testscores = test_instances[:,1]\n",
    "\n",
    "\n",
    "\n",
    "import pandas as pd\n",
    "\n",
    "# print as a table\n",
    "df = pd.DataFrame(np.asarray([test_hoursstudied,pred_testscores,true_testscores]).T, columns=[\"Hours Studied\",\"Predicted Score\", \"Actual Score\"]) \n",
    "\n",
    "print(df)\n"
   ]
  },
  {
   "cell_type": "markdown",
   "metadata": {},
   "source": [
    "#### [optional for fun] \n",
    "1. scikit-learn has linear regression implementation. Use its implementation to predict the students' test scores in the test set. Refer to https://scikit-learn.org/stable/auto_examples/linear_model/plot_ols.html\n",
    "2. you may implement your linear regression by using Vectorization"
   ]
  },
  {
   "cell_type": "code",
   "execution_count": 60,
   "metadata": {},
   "outputs": [
    {
     "data": {
      "image/png": "[encoded data removed]",
      "text/plain": [
       "<Figure size 432x288 with 1 Axes>"
      ]
     },
     "metadata": {
      "needs_background": "light"
     },
     "output_type": "display_data"
    }
   ],
   "source": [
    "# Your code starts here (again they are optional)\n",
    "#   Please add comments or text cells in between to explain the general idea of each block of the code.\n",
    "#   Please feel free to add more cells below this cell if necessary\n",
    "\n",
    "from sklearn import linear_model\n",
    "\n",
    "\n",
    "regr = linear_model.LinearRegression()\n",
    "\n",
    "hoursstudied=hoursstudied.reshape(-1, 1)\n",
    "testscores=testscores.reshape(-1, 1)\n",
    "\n",
    "\n",
    "# hoursstudied = instances[:,0]\n",
    "# testscores = instances[:,1]\n",
    "\n",
    "# Train the model using the training sets\n",
    "regr.fit(hoursstudied, testscores)\n",
    "\n",
    "test_hoursstudied=test_hoursstudied.reshape(-1, 1)\n",
    "\n",
    "# Make predictions using the testing set\n",
    "pred_testscores = regr.predict(test_hoursstudied)\n",
    "\n",
    "# Plot outputs\n",
    "plt.scatter(hoursstudied, testscores,  color='black')\n",
    "plt.scatter(test_hoursstudied, pred_testscores, color='blue')\n",
    "\n",
    "plt.show()\n",
    "\n",
    "\n"
   ]
  },
  {
   "cell_type": "markdown",
   "metadata": {},
   "source": [
    "*-----------------\n",
    "# Done\n",
    "\n",
    "All set! \n",
    "\n",
    "** What do you need to submit?**\n",
    "\n",
    "* **Notebook File**: Save this Jupyter notebook, and find the notebook file in your folder (for example, \"filename.ipynb\"). This is the file you need to submit. Please make sure all the plotted tables and figures are in the notebook.\n",
    "\n",
    "** How to submit: **\n",
    "\n",
    "        Please submit through Canvas, in the Assignment \"HW2\"."
   ]
  },
  {
   "cell_type": "code",
   "execution_count": null,
   "metadata": {},
   "outputs": [],
   "source": []
  }
 ],
 "metadata": {
  "kernelspec": {
   "display_name": "Python 3",
   "language": "python",
   "name": "python3"
  },
  "language_info": {
   "codemirror_mode": {
    "name": "ipython",
    "version": 3
   },
   "file_extension": ".py",
   "mimetype": "text/x-python",
   "name": "python",
   "nbconvert_exporter": "python",
   "pygments_lexer": "ipython3",
   "version": "3.6.0"
  }
 },
 "nbformat": 4,
 "nbformat_minor": 2
}
