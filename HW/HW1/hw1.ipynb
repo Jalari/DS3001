{
 "cells": [
  {
   "cell_type": "markdown",
   "metadata": {},
   "source": [
    "# HW1 : Data Science in Twitter Data"
   ]
  },
  {
   "cell_type": "markdown",
   "metadata": {},
   "source": [
    "**Required Readings:** \n",
    "* Chapter 1 and Chapter 9 of the book [Mining the Social Web](https://www.safaribooksonline.com/library/view/mining-the-social/9781491973547/?orpq) \n",
    "* The codes for Chapters 1 and 9 are in [here](https://github.com/mikhailklassen/Mining-the-Social-Web-3rd-Edition/tree/master/notebooks).\n",
    "\n",
    "** NOTE **\n",
    "* Please don't forget to save the notebook frequently when working in Jupyter Notebook, otherwise the changes you made can be lost.\n",
    "\n",
    "*----------------------"
   ]
  },
  {
   "cell_type": "markdown",
   "metadata": {},
   "source": [
    "## Data Collection: Download Twitter Data using API"
   ]
  },
  {
   "cell_type": "markdown",
   "metadata": {},
   "source": [
    "* As the first step of Data Science process, let's collect some twitter data. Choose a keyword and search tweets containing the keyword by using Twitter search API, and then download the searched tweets (including the meta data that the Search API returns) in a file. It is recommended that the number of searched tweets should be at least 300.\n",
    "* Store the tweets you downloaded into a local file (txt file or json file) "
   ]
  },
  {
   "cell_type": "code",
   "execution_count": 1,
   "metadata": {},
   "outputs": [],
   "source": [
    "# What keyword did you choose?:  radio\n"
   ]
  },
  {
   "cell_type": "code",
   "execution_count": 4,
   "metadata": {
    "scrolled": true
   },
   "outputs": [],
   "source": [
    "import twitter\n",
    "import json\n",
    "\n",
    "\n",
    "# ---------------------------------------------\n",
    "# Define a Function to Login Twitter API\n",
    "def oauth_login():\n",
    "    # Go to http://twitter.com/apps/new to create an app and get values\n",
    "    # for these credentials that you'll need to provide in place of these\n",
    "    # empty string values that are defined as placeholders.\n",
    "    # See https://dev.twitter.com/docs/auth/oauth for more information\n",
    "    # on Twitter's OAuth implementation.\n",
    "\n",
    "    CONSUMER_KEY = ''\n",
    "    CONSUMER_SECRET = ''\n",
    "    OAUTH_TOKEN = ''\n",
    "    OAUTH_TOKEN_SECRET = ''\n",
    "\n",
    "    auth = twitter.oauth.OAuth(OAUTH_TOKEN, OAUTH_TOKEN_SECRET,\n",
    "                               CONSUMER_KEY, CONSUMER_SECRET)\n",
    "\n",
    "    twitter_api = twitter.Twitter(auth=auth)\n",
    "    return twitter_api\n",
    "\n",
    "\n",
    "# ----------------------------------------------\n",
    "# Your code starts here\n",
    "#   Please add comments or text cells in between to explain the general idea of each block of the code.\n",
    "#   Please feel free to add more cells below this cell if necessary\n",
    "\n",
    "# Code from Chapter 9 of the book\n",
    "def twitter_search(twitter_api, q, max_results=100):\n",
    "\n",
    "    # See https://developer.twitter.com/en/docs/tweets/search/api-reference/get-search-tweets\n",
    "    # and https://developer.twitter.com/en/docs/tweets/search/guides/standard-operators\n",
    "    # for details on advanced search criteria that may be useful for \n",
    "    # keyword arguments\n",
    "    \n",
    "    # See https://dev.twitter.com/docs/api/1.1/get/search/tweets    \n",
    "    results = twitter_api.search.tweets(q=q, count=100)\n",
    "    \n",
    "    # Iterate through batches of results by following the cursor until we\n",
    "    # reach the desired number of results, keeping in mind that OAuth users\n",
    "    # can \"only\" make 180 search queries per 15-minute interval. See\n",
    "    # https://developer.twitter.com/en/docs/basics/rate-limits\n",
    "    # for details. A reasonable number of results is ~1000, although\n",
    "    # that number of results may not exist for all queries.\n",
    "    \n",
    "    # Enforce a reasonable limit\n",
    "    max_results = min(300, max_results)\n",
    "    \n",
    "    for _ in range(10): # 10*100 = 1000\n",
    "        try:\n",
    "            next_results = results['search_metadata']['next_results']\n",
    "        except KeyError as e: # No more results when next_results doesn't exist\n",
    "            break\n",
    "        \n",
    "        search_results = twitter_api.search.tweets(q=q, count=100)\n",
    "        #   add the tweets together\n",
    "        results['statuses'] += search_results['statuses']\n",
    "        #   update metadata\n",
    "        results['search_metadata'].update(search_results['search_metadata'])\n",
    "        \n",
    "        if len(results['statuses']) >= max_results: \n",
    "            break\n",
    "            \n",
    "    return results\n",
    "\n",
    "twitter_api = oauth_login()\n",
    "q = \"radio\"\n",
    "\n",
    "results = twitter_search(twitter_api, q, max_results=300)\n",
    "\n",
    "# write to file\n",
    "with open('twitter.json', 'w') as fp:\n",
    "    json.dump(results, fp)\n",
    "\n",
    "\n"
   ]
  },
  {
   "cell_type": "markdown",
   "metadata": {},
   "source": [
    "### Report  statistics about the tweets you collected "
   ]
  },
  {
   "cell_type": "code",
   "execution_count": 5,
   "metadata": {},
   "outputs": [
    {
     "name": "stdout",
     "output_type": "stream",
     "text": [
      "The total number of tweets collected: 396\n"
     ]
    }
   ],
   "source": [
    "# The total number of tweets collected:  300\n",
    "print(\"The total number of tweets collected: \"+str(len(results['statuses'])))"
   ]
  },
  {
   "cell_type": "markdown",
   "metadata": {},
   "source": [
    "# Data Exploration: Exploring the Tweets and Tweet Entities\n",
    "\n",
    "**(1) Word Count:** \n",
    "* Load the tweets you collected in the local file (txt or json)\n",
    "* compute the frequencies of the words being used in these tweets. \n",
    "* Plot a table of the top 30 most-frequent words with their counts"
   ]
  },
  {
   "cell_type": "code",
   "execution_count": 6,
   "metadata": {},
   "outputs": [
    {
     "name": "stdout",
     "output_type": "stream",
     "text": [
      "          Word  Freq\n",
      "0           RT   228\n",
      "1           on    98\n",
      "2        radio    92\n",
      "3            a    89\n",
      "4           to    77\n",
      "5          the    75\n",
      "6           of    65\n",
      "7            -    64\n",
      "8           de    62\n",
      "9           in    56\n",
      "10          la    52\n",
      "11           y    51\n",
      "12       Radio    48\n",
      "13         and    45\n",
      "14          by    40\n",
      "15          en    36\n",
      "16        this    33\n",
      "17         que    33\n",
      "18           “    32\n",
      "19         you    32\n",
      "20          el    27\n",
      "21          at    25\n",
      "22       &amp;    25\n",
      "23         for    24\n",
      "24         por    24\n",
      "25          is    24\n",
      "26         con    24\n",
      "27          En    23\n",
      "28  Quarantine    22\n",
      "29         The    21\n"
     ]
    }
   ],
   "source": [
    "# Your code starts here\n",
    "#   Please add comments or text cells in between to explain the general idea of each block of the code.\n",
    "#   Please feel free to add more cells below this cell if necessary\n",
    "\n",
    "with open('twitter.json') as f:\n",
    "    data = json.load(f)\n",
    "\n",
    "# A word is defined by a series of characters surounded by spaces\n",
    "def getWordFrequency(statuses):\n",
    "    \n",
    "    wordfreq = {}\n",
    "\n",
    "    for tweet in statuses:\n",
    "        words = tweet['text'].split()\n",
    "        for word in words:\n",
    "            # for each word in a tweet add it to the dict\n",
    "            if word in wordfreq:\n",
    "                wordfreq[word] = wordfreq[word]+1\n",
    "            else:\n",
    "                wordfreq[word] = 1\n",
    "    # Sort by frequency     \n",
    "    wordfreq = {k: v for k, v in sorted(wordfreq.items(), key=lambda item: item[1], reverse=True)}            \n",
    "    return wordfreq\n",
    "\n",
    "wordfreq = getWordFrequency(data['statuses'])\n",
    "\n",
    "import pandas as pd\n",
    "\n",
    "# print as a table\n",
    "df = pd.DataFrame(wordfreq.items(), columns=[\"Word\", \"Freq\"]) \n",
    "print(df[:30])\n",
    "\n",
    "\n"
   ]
  },
  {
   "cell_type": "markdown",
   "metadata": {},
   "source": [
    "** (2) Find the most popular tweets in your collection of tweets**\n",
    "\n",
    "Please plot a table of the top 10 most-retweeted tweets in your collection, i.e., the tweets with the largest number of retweet counts.\n"
   ]
  },
  {
   "cell_type": "code",
   "execution_count": 7,
   "metadata": {},
   "outputs": [
    {
     "name": "stdout",
     "output_type": "stream",
     "text": [
      "                                               Tweet     RT\n",
      "0  RT @smuckersbytyler: Bro the way Tory Lanez in...  42357\n",
      "1  RT @jairbolsonaro: - Hoje, 19h ao vivo, serei ...   5927\n",
      "2  RT @marklevinshow: 1. NPR can’t help but lie a...   5501\n",
      "3  RT @AXELKAISER: Suiza ya tiene la vacuna contr...   3900\n",
      "4  RT @ElpremaArturo: El presidente del banco San...   3427\n",
      "5  RT @iam_johnw: Katt Williams definitely funnie...   1604\n",
      "6  RT @McFaul: HOW could he not have known this ?...   1328\n",
      "7  RT @exo_schedules: DAILY #EXO SCHEDULE 🗓 20040...    990\n",
      "8  RT @RAscotland: Such sad news to learn of the ...    725\n",
      "9  RT @qtpiebyunbaek: 200402 JUNMYEON RADIO\\n\\nJu...    599\n"
     ]
    }
   ],
   "source": [
    "# Your code starts here\n",
    "#   Please add comments or text cells in between to explain the general idea of each block of the code.\n",
    "#   Please feel free to add more cells below this cell if necessary\n",
    "\n",
    "def getPopularTweets(statuses,retweet_threshold=3):\n",
    "    \n",
    "    pop_freq = {}\n",
    "    for status in statuses:\n",
    "        if status['text'] not in pop_freq:\n",
    "            pop_freq[status['text']] = status['retweet_count']\n",
    "\n",
    "# Sort by frequency     \n",
    "    pop_freq = {k: v for k, v in sorted(pop_freq.items(), key=lambda item: item[1], reverse=True)}            \n",
    "    return pop_freq\n",
    "\n",
    "pop_tweets = getPopularTweets(data['statuses'])\n",
    "\n",
    "# print as a table\n",
    "df = pd.DataFrame(pop_tweets.items(), columns=[\"Tweet\", \"RT\"]) \n",
    "print(df[:10])\n",
    "\n",
    "\n",
    "\n",
    "\n",
    "\n",
    "\n"
   ]
  },
  {
   "cell_type": "markdown",
   "metadata": {},
   "source": [
    "**(3) Find the most popular Tweet Entities in your collection of tweets**\n",
    "\n",
    "Please plot the top 10 most-frequent hashtags and top 10 most-mentioned users in your collection of tweets."
   ]
  },
  {
   "cell_type": "code",
   "execution_count": 16,
   "metadata": {},
   "outputs": [
    {
     "name": "stdout",
     "output_type": "stream",
     "text": [
      "       Hashtag  Count\n",
      "0   NowPlaying     20\n",
      "1        radio      8\n",
      "2         live      8\n",
      "3  Coronavirus      8\n",
      "4    WONKRADIO      7\n",
      "5         kmox      6\n",
      "6   水溜りボンドANN0      5\n",
      "7  EmpireRadio      4\n",
      "8   MDPolitics      4\n",
      "9       MDGA20      4\n",
      "\n",
      "\n",
      "\n",
      "              User  Mention Count\n",
      "0        iam_johnw             16\n",
      "1       AXELKAISER             11\n",
      "2      purelylorde              8\n",
      "3            lorde              8\n",
      "4    jairbolsonaro              8\n",
      "5           McFaul              5\n",
      "6         mizuann0              5\n",
      "7     _sailorsteph              5\n",
      "8  tupamarolaramrt              4\n",
      "9      Wil_Ngoumou              4\n"
     ]
    }
   ],
   "source": [
    "# Your code starts here\n",
    "#   Please add comments or text cells in between to explain the general idea of each block of the code.\n",
    "#   Please feel free to add more cells below this cell if necessary\n",
    "\n",
    "def getHashtags(statuses):   \n",
    "    hash_freq = {}\n",
    "    for status in statuses:\n",
    "        for hashtag in status['entities']['hashtags']:\n",
    "            hashtag = hashtag['text']\n",
    "            if hashtag in hash_freq:\n",
    "                hash_freq[hashtag] = hash_freq[hashtag]+1\n",
    "            else:\n",
    "                hash_freq[hashtag] = 1\n",
    "     # Sort by frequency     \n",
    "    hash_freq = {k: v for k, v in sorted(hash_freq.items(), key=lambda item: item[1], reverse=True)}            \n",
    "   \n",
    "    return hash_freq\n",
    "\n",
    "def getUserMentions(statuses):\n",
    "    mention_freq = {}\n",
    "    for status in statuses:\n",
    "        for user_mention in status['entities']['user_mentions']:\n",
    "            user_mention = user_mention['screen_name']\n",
    "            if user_mention in mention_freq:\n",
    "                mention_freq[user_mention] = mention_freq[user_mention]+1\n",
    "            else:\n",
    "                mention_freq[user_mention] = 1\n",
    "     # Sort by frequency     \n",
    "    mention_freq = {k: v for k, v in sorted(mention_freq.items(), key=lambda item: item[1], reverse=True)}            \n",
    "    \n",
    "    return mention_freq\n",
    "\n",
    "\n",
    "\n",
    "\n",
    "\n",
    "hash_freq = getHashtags(data['statuses'])\n",
    "\n",
    "# print Hash frequencies as a table\n",
    "df_hash = pd.DataFrame(hash_freq.items(), columns=[\"Hashtag\", \"Count\"]) \n",
    "print(df_hash[:10])\n",
    "\n",
    "\n",
    "print(\"\\n\\n\")\n",
    "\n",
    "\n",
    "mention_freq = getUserMentions(data['statuses'])\n",
    "\n",
    "# print User mentions as a table\n",
    "df_users = pd.DataFrame(mention_freq.items(), columns=[\"User\", \"Mention Count\"]) \n",
    "print(df_users[:10])\n",
    "\n",
    "max_mentions = df_users['User'][0]\n"
   ]
  },
  {
   "cell_type": "markdown",
   "metadata": {},
   "source": [
    "Plot a histogram of the number of user mentions in the list using the following bins."
   ]
  },
  {
   "cell_type": "code",
   "execution_count": 17,
   "metadata": {},
   "outputs": [
    {
     "data": {
      "image/png": "[encoded data removed]",
      "text/plain": [
       "<Figure size 432x288 with 1 Axes>"
      ]
     },
     "metadata": {
      "needs_background": "light"
     },
     "output_type": "display_data"
    }
   ],
   "source": [
    "bins=[0, 10, 20, 30, 40, 50, 100]\n",
    "\n",
    "# Your code starts here\n",
    "#   Please add comments or text cells in between to explain the general idea of each block of the code.\n",
    "#   Please feel free to add more cells below this cell if necessary\n",
    "\n",
    "hist = df_users.hist(column='Mention Count',bins=bins)\n",
    "\n"
   ]
  },
  {
   "cell_type": "markdown",
   "metadata": {},
   "source": [
    "\n",
    " ** (optional task for fun) Getting \"All\" friends (followees) and \"All\" followers of a popular user in the tweets**"
   ]
  },
  {
   "cell_type": "markdown",
   "metadata": {},
   "source": [
    "* choose a popular twitter user who has many followers in your collection of tweets.\n",
    "* Get the list of all friends and all followers of the twitter user.\n",
    "* Plot 20 out of the followers, plot their ID numbers and screen names in a table.\n",
    "* Plot 20 out of the friends (if the user has more than 20 friends), plot their ID numbers and screen names in a table."
   ]
  },
  {
   "cell_type": "code",
   "execution_count": 19,
   "metadata": {},
   "outputs": [
    {
     "name": "stdout",
     "output_type": "stream",
     "text": [
      "Data for: iam_johnw\n",
      "\n",
      "             Friend IDs     Screen Name\n",
      "0            2583313556    tamar_louris\n",
      "1            2796912621    mike_zingaro\n",
      "2            1566337508       choogotti\n",
      "3            1135339009          tyiax0\n",
      "4             716103612       zay_zay32\n",
      "5             438513903        RayavanR\n",
      "6             339302972       CeCeDumas\n",
      "7            2908928416   robhundredsss\n",
      "8             567273219      TheGOATJay\n",
      "9            2349282585       adnsimone\n",
      "10            324669893    BenjiHavinIt\n",
      "11             35373686      Iam_AyHole\n",
      "12           3025977845  BlueLemonGamer\n",
      "13           1236632438         Dkenmac\n",
      "14            561632418   SLUTTYASSKOTA\n",
      "15  1145859996892241920   justfacts____\n",
      "16            168332885      _casualcam\n",
      "17           1252213273      OliffRiley\n",
      "18           2195253714      LilRoyIvan\n",
      "19           2921122280    cmccracken34\n",
      "\n",
      "\n",
      "\n",
      "           Follower IDs      Screen Name\n",
      "0   1244709895309492228    luanayaasmim1\n",
      "1   1245867045192949760     MarleneZonta\n",
      "2   1245865755306004481  JuninhoLarange1\n",
      "3   1048795628510359553  ewellycarolinee\n",
      "4   1245866273872936960      coelho_lane\n",
      "5   1245868224769675264        jwjehehei\n",
      "6   1244685036688945153   SamilliVilhena\n",
      "7             128743208         maripers\n",
      "8              88105376       RonaldoCel\n",
      "9   1245864627591929858     DriMarques10\n",
      "10  1245827607947628547      DaniMeneguz\n",
      "11  1245866901894545408  Viviane53621892\n",
      "12            203653471       me_gontijo\n",
      "13  1245866811142242305     Nack21121183\n",
      "14             75119902   vigilatetorate\n",
      "15  1245867068081176576    Thais88779966\n",
      "16  1241044281340690432   patricialages4\n",
      "17  1243691974676361216   ANGELA57658786\n",
      "18  1245862206459334661          gdturra\n",
      "19  1072864073505636353  goularte_jennif\n"
     ]
    }
   ],
   "source": [
    "# Your code starts here\n",
    "#   Please add comments or text cells in between to explain the general idea of each block of the code.\n",
    "#   Please feel free to add more cells below this cell if necessary\n",
    "\n",
    "def getScreenNameIDs(userlist):\n",
    "    screenname_dict = {}\n",
    "    for user in userlist:\n",
    "        screenname_dict[user['id']] = user['screen_name']\n",
    "    return screenname_dict\n",
    "        \n",
    "\n",
    "\n",
    "print(\"Data for: \" + str(max_mentions)+\"\\n\")\n",
    "\n",
    "friends = twitter_api.friends.list(screen_name=max_mentions)['users']\n",
    "\n",
    "friend_dict = getScreenNameIDs(friends)\n",
    "\n",
    "# print as a table\n",
    "df_users = pd.DataFrame(friend_dict.items(), columns=[\"Friend IDs\", \"Screen Name\"]) \n",
    "print(df_users)\n",
    "\n",
    "\n",
    "print(\"\\n\\n\")\n",
    "\n",
    "\n",
    "followers = twitter_api.followers.list(screen_name=\"jairbolsonaro\")['users']\n",
    "\n",
    "followers_dict = getScreenNameIDs(followers)\n",
    "\n",
    "# print as a table\n",
    "df_users = pd.DataFrame(followers_dict.items(), columns=[\"Follower IDs\", \"Screen Name\"]) \n",
    "print(df_users)\n",
    "\n",
    "\n"
   ]
  },
  {
   "cell_type": "markdown",
   "metadata": {},
   "source": [
    "*-----------------\n",
    "# Done\n",
    "\n",
    "All set! \n",
    "\n",
    "** What do you need to submit?**\n",
    "\n",
    "* **Notebook File**: Save this Jupyter notebook, and find the notebook file in your folder (for example, \"filename.ipynb\"). This is the file you need to submit. Please make sure all the plotted tables and figures are in the notebook.\n",
    "\n",
    "** How to submit: **\n",
    "\n",
    "        Please submit through Canvas, in the Assignment \"HW1\".\n",
    "        "
   ]
  }
 ],
 "metadata": {
  "anaconda-cloud": {},
  "kernelspec": {
   "display_name": "Python 3",
   "language": "python",
   "name": "python3"
  },
  "language_info": {
   "codemirror_mode": {
    "name": "ipython",
    "version": 3
   },
   "file_extension": ".py",
   "mimetype": "text/x-python",
   "name": "python",
   "nbconvert_exporter": "python",
   "pygments_lexer": "ipython3",
   "version": "3.6.0"
  }
 },
 "nbformat": 4,
 "nbformat_minor": 1
}
