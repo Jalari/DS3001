{
 "cells": [
  {
   "cell_type": "code",
   "execution_count": 2,
   "metadata": {},
   "outputs": [],
   "source": [
    "import pandas as pd\n",
    "import numpy as np\n",
    "import matplotlib.pyplot as plt\n",
    "import seaborn as sns\n",
    "from wordcloud import WordCloud,STOPWORDS\n",
    "import missingno as msno\n",
    "import squarify\n",
    "\n",
    "%matplotlib inline\n",
    "plt.style.use('fivethirtyeight')\n",
    "plt.rcParams.update({'font.size':12})"
   ]
  },
  {
   "cell_type": "code",
   "execution_count": 3,
   "metadata": {},
   "outputs": [
    {
     "name": "stdout",
     "output_type": "stream",
     "text": [
      "Number of rows and columns: (129971, 13)\n"
     ]
    }
   ],
   "source": [
    "#path = 'dataset/'\n",
    "path = 'wine-reviews/'\n",
    "wine = pd.read_csv(path + 'winemag-data-130k-v2.csv',index_col=0)\n",
    "# wine_150k = pd.read_csv(path + 'winemag-data_first150k.csv',index_col=0)\n",
    "# wine_130k = pd.read_csv(path + 'winemag-data-130k-v2.csv',index_col=0)\n",
    "# wine = pd.concat([wine_150k,wine_130k],axis=0)\n",
    "#wine = wine_150k\n",
    "print(\"Number of rows and columns:\",wine.shape)"
   ]
  },
  {
   "cell_type": "code",
   "execution_count": 4,
   "metadata": {},
   "outputs": [
    {
     "data": {
      "text/html": [
       "<div>\n",
       "<style scoped>\n",
       "    .dataframe tbody tr th:only-of-type {\n",
       "        vertical-align: middle;\n",
       "    }\n",
       "\n",
       "    .dataframe tbody tr th {\n",
       "        vertical-align: top;\n",
       "    }\n",
       "\n",
       "    .dataframe thead th {\n",
       "        text-align: right;\n",
       "    }\n",
       "</style>\n",
       "<table border=\"1\" class=\"dataframe\">\n",
       "  <thead>\n",
       "    <tr style=\"text-align: right;\">\n",
       "      <th></th>\n",
       "      <th>country</th>\n",
       "      <th>description</th>\n",
       "      <th>designation</th>\n",
       "      <th>points</th>\n",
       "      <th>price</th>\n",
       "      <th>province</th>\n",
       "      <th>region_1</th>\n",
       "      <th>region_2</th>\n",
       "      <th>taster_name</th>\n",
       "      <th>taster_twitter_handle</th>\n",
       "      <th>title</th>\n",
       "      <th>variety</th>\n",
       "      <th>winery</th>\n",
       "    </tr>\n",
       "  </thead>\n",
       "  <tbody>\n",
       "    <tr>\n",
       "      <th>0</th>\n",
       "      <td>Italy</td>\n",
       "      <td>Aromas include tropical fruit, broom, brimston...</td>\n",
       "      <td>Vulkà Bianco</td>\n",
       "      <td>87</td>\n",
       "      <td>NaN</td>\n",
       "      <td>Sicily &amp; Sardinia</td>\n",
       "      <td>Etna</td>\n",
       "      <td>NaN</td>\n",
       "      <td>Kerin O’Keefe</td>\n",
       "      <td>@kerinokeefe</td>\n",
       "      <td>Nicosia 2013 Vulkà Bianco  (Etna)</td>\n",
       "      <td>White Blend</td>\n",
       "      <td>Nicosia</td>\n",
       "    </tr>\n",
       "    <tr>\n",
       "      <th>1</th>\n",
       "      <td>Portugal</td>\n",
       "      <td>This is ripe and fruity, a wine that is smooth...</td>\n",
       "      <td>Avidagos</td>\n",
       "      <td>87</td>\n",
       "      <td>15.0</td>\n",
       "      <td>Douro</td>\n",
       "      <td>NaN</td>\n",
       "      <td>NaN</td>\n",
       "      <td>Roger Voss</td>\n",
       "      <td>@vossroger</td>\n",
       "      <td>Quinta dos Avidagos 2011 Avidagos Red (Douro)</td>\n",
       "      <td>Portuguese Red</td>\n",
       "      <td>Quinta dos Avidagos</td>\n",
       "    </tr>\n",
       "    <tr>\n",
       "      <th>2</th>\n",
       "      <td>US</td>\n",
       "      <td>Tart and snappy, the flavors of lime flesh and...</td>\n",
       "      <td>NaN</td>\n",
       "      <td>87</td>\n",
       "      <td>14.0</td>\n",
       "      <td>Oregon</td>\n",
       "      <td>Willamette Valley</td>\n",
       "      <td>Willamette Valley</td>\n",
       "      <td>Paul Gregutt</td>\n",
       "      <td>@paulgwine</td>\n",
       "      <td>Rainstorm 2013 Pinot Gris (Willamette Valley)</td>\n",
       "      <td>Pinot Gris</td>\n",
       "      <td>Rainstorm</td>\n",
       "    </tr>\n",
       "    <tr>\n",
       "      <th>3</th>\n",
       "      <td>US</td>\n",
       "      <td>Pineapple rind, lemon pith and orange blossom ...</td>\n",
       "      <td>Reserve Late Harvest</td>\n",
       "      <td>87</td>\n",
       "      <td>13.0</td>\n",
       "      <td>Michigan</td>\n",
       "      <td>Lake Michigan Shore</td>\n",
       "      <td>NaN</td>\n",
       "      <td>Alexander Peartree</td>\n",
       "      <td>NaN</td>\n",
       "      <td>St. Julian 2013 Reserve Late Harvest Riesling ...</td>\n",
       "      <td>Riesling</td>\n",
       "      <td>St. Julian</td>\n",
       "    </tr>\n",
       "    <tr>\n",
       "      <th>4</th>\n",
       "      <td>US</td>\n",
       "      <td>Much like the regular bottling from 2012, this...</td>\n",
       "      <td>Vintner's Reserve Wild Child Block</td>\n",
       "      <td>87</td>\n",
       "      <td>65.0</td>\n",
       "      <td>Oregon</td>\n",
       "      <td>Willamette Valley</td>\n",
       "      <td>Willamette Valley</td>\n",
       "      <td>Paul Gregutt</td>\n",
       "      <td>@paulgwine</td>\n",
       "      <td>Sweet Cheeks 2012 Vintner's Reserve Wild Child...</td>\n",
       "      <td>Pinot Noir</td>\n",
       "      <td>Sweet Cheeks</td>\n",
       "    </tr>\n",
       "  </tbody>\n",
       "</table>\n",
       "</div>"
      ],
      "text/plain": [
       "    country                                        description  \\\n",
       "0     Italy  Aromas include tropical fruit, broom, brimston...   \n",
       "1  Portugal  This is ripe and fruity, a wine that is smooth...   \n",
       "2        US  Tart and snappy, the flavors of lime flesh and...   \n",
       "3        US  Pineapple rind, lemon pith and orange blossom ...   \n",
       "4        US  Much like the regular bottling from 2012, this...   \n",
       "\n",
       "                          designation  points  price           province  \\\n",
       "0                        Vulkà Bianco      87    NaN  Sicily & Sardinia   \n",
       "1                            Avidagos      87   15.0              Douro   \n",
       "2                                 NaN      87   14.0             Oregon   \n",
       "3                Reserve Late Harvest      87   13.0           Michigan   \n",
       "4  Vintner's Reserve Wild Child Block      87   65.0             Oregon   \n",
       "\n",
       "              region_1           region_2         taster_name  \\\n",
       "0                 Etna                NaN       Kerin O’Keefe   \n",
       "1                  NaN                NaN          Roger Voss   \n",
       "2    Willamette Valley  Willamette Valley        Paul Gregutt   \n",
       "3  Lake Michigan Shore                NaN  Alexander Peartree   \n",
       "4    Willamette Valley  Willamette Valley        Paul Gregutt   \n",
       "\n",
       "  taster_twitter_handle                                              title  \\\n",
       "0          @kerinokeefe                  Nicosia 2013 Vulkà Bianco  (Etna)   \n",
       "1            @vossroger      Quinta dos Avidagos 2011 Avidagos Red (Douro)   \n",
       "2           @paulgwine       Rainstorm 2013 Pinot Gris (Willamette Valley)   \n",
       "3                   NaN  St. Julian 2013 Reserve Late Harvest Riesling ...   \n",
       "4           @paulgwine   Sweet Cheeks 2012 Vintner's Reserve Wild Child...   \n",
       "\n",
       "          variety               winery  \n",
       "0     White Blend              Nicosia  \n",
       "1  Portuguese Red  Quinta dos Avidagos  \n",
       "2      Pinot Gris            Rainstorm  \n",
       "3        Riesling           St. Julian  \n",
       "4      Pinot Noir         Sweet Cheeks  "
      ]
     },
     "execution_count": 4,
     "metadata": {},
     "output_type": "execute_result"
    }
   ],
   "source": [
    "wine.head()"
   ]
  },
  {
   "cell_type": "code",
   "execution_count": 35,
   "metadata": {},
   "outputs": [
    {
     "data": {
      "text/html": [
       "<div>\n",
       "<style scoped>\n",
       "    .dataframe tbody tr th:only-of-type {\n",
       "        vertical-align: middle;\n",
       "    }\n",
       "\n",
       "    .dataframe tbody tr th {\n",
       "        vertical-align: top;\n",
       "    }\n",
       "\n",
       "    .dataframe thead th {\n",
       "        text-align: right;\n",
       "    }\n",
       "</style>\n",
       "<table border=\"1\" class=\"dataframe\">\n",
       "  <thead>\n",
       "    <tr style=\"text-align: right;\">\n",
       "      <th></th>\n",
       "      <th>country</th>\n",
       "      <th>description</th>\n",
       "      <th>designation</th>\n",
       "      <th>points</th>\n",
       "      <th>price</th>\n",
       "      <th>province</th>\n",
       "      <th>region_1</th>\n",
       "      <th>region_2</th>\n",
       "      <th>taster_name</th>\n",
       "      <th>title</th>\n",
       "      <th>variety</th>\n",
       "      <th>winery</th>\n",
       "    </tr>\n",
       "  </thead>\n",
       "  <tbody>\n",
       "    <tr>\n",
       "      <th>0</th>\n",
       "      <td>Italy</td>\n",
       "      <td>Aromas include tropical fruit, broom, brimston...</td>\n",
       "      <td>Vulkà Bianco</td>\n",
       "      <td>87</td>\n",
       "      <td>30.0</td>\n",
       "      <td>Sicily &amp; Sardinia</td>\n",
       "      <td>Etna</td>\n",
       "      <td>Unknown</td>\n",
       "      <td>Kerin O’Keefe</td>\n",
       "      <td>Nicosia 2013 Vulkà Bianco  (Etna)</td>\n",
       "      <td>White Blend</td>\n",
       "      <td>Nicosia</td>\n",
       "    </tr>\n",
       "  </tbody>\n",
       "</table>\n",
       "</div>"
      ],
      "text/plain": [
       "  country                                        description   designation  \\\n",
       "0   Italy  Aromas include tropical fruit, broom, brimston...  Vulkà Bianco   \n",
       "\n",
       "   points  price           province region_1 region_2    taster_name  \\\n",
       "0      87   30.0  Sicily & Sardinia     Etna  Unknown  Kerin O’Keefe   \n",
       "\n",
       "                               title      variety   winery  \n",
       "0  Nicosia 2013 Vulkà Bianco  (Etna)  White Blend  Nicosia  "
      ]
     },
     "execution_count": 35,
     "metadata": {},
     "output_type": "execute_result"
    }
   ],
   "source": [
    "wine.isna().sum()# 280901\n",
    "\n",
    "# array(['Kerin O’Keefe', 'Roger Voss', 'Paul Gregutt',\n",
    "#        'Alexander Peartree', 'Michael Schachner', 'Anna Lee C. Iijima',\n",
    "#        'Virginie Boone', 'Matt Kettmann', nan, 'Sean P. Sullivan',\n",
    "#        'Jim Gordon', 'Joe Czerwinski', 'Anne Krebiehl\\xa0MW',\n",
    "#        'Lauren Buzzeo', 'Mike DeSimone', 'Jeff Jenssen',\n",
    "#        'Susan Kostrzewa', 'Carrie Dykes', 'Fiona Adams',\n",
    "#        'Christina Pickard'], dtype=object)\n",
    "\n",
    "# Nicosia 2013 Vulkà Bianco  (Etna)\n",
    "wine['title'].unique().shape\n",
    "# wine.shape\n",
    "wine.loc[wine['title'] == 'Nicosia 2013 Vulkà Bianco  (Etna)']# wine['tile'].\n",
    "\n",
    "# wine['taster_name'] == 'Roger Voss'\n",
    "# wine.loc[wine['taster_name'] == 'Roger Voss']"
   ]
  },
  {
   "cell_type": "code",
   "execution_count": 17,
   "metadata": {},
   "outputs": [
    {
     "data": {
      "text/plain": [
       "country           0\n",
       "description       0\n",
       "designation       0\n",
       "points            0\n",
       "price          6751\n",
       "province          0\n",
       "region_1          0\n",
       "region_2          0\n",
       "taster_name       0\n",
       "title             0\n",
       "variety           0\n",
       "winery            0\n",
       "dtype: int64"
      ]
     },
     "execution_count": 17,
     "metadata": {},
     "output_type": "execute_result"
    }
   ],
   "source": [
    "# drop columns\n",
    "wine.drop(columns=['taster_twitter_handle'], inplace=True)\n",
    "# drop duplicates\n",
    "wine.drop_duplicates(inplace=True)\n",
    "# add \"Unknown\" to missing values in the categories with text\n",
    "wine.country.fillna(\"Unknown\",inplace=True)\n",
    "wine.designation.fillna(\"Unknown\",inplace=True)\n",
    "wine.province.fillna(\"Unknown\",inplace=True)\n",
    "wine.region_1.fillna(\"Unknown\",inplace=True)\n",
    "wine.region_2.fillna(\"Unknown\",inplace=True)\n",
    "# wine.taster_name.fillna(\"Unknown\",inplace=True)\n",
    "wine.title.fillna(\"Unknown\",inplace=True)\n",
    "# there is only one row with missing variety\n",
    "wine.drop(wine[wine.variety.isna()].index, inplace=True)\n",
    "# for rating matrix, kick out wine entries that dont have a tastername\n",
    "wine.drop(wine[wine.taster_name.isna()].index, inplace=True)\n",
    "\n",
    "\n",
    "wine.isna().sum() #86909"
   ]
  },
  {
   "cell_type": "code",
   "execution_count": 18,
   "metadata": {},
   "outputs": [
    {
     "data": {
      "text/plain": [
       "country\n",
       "Argentina                 17.0\n",
       "Armenia                   14.5\n",
       "Australia                 22.0\n",
       "Austria                   25.0\n",
       "Bosnia and Herzegovina    12.5\n",
       "Brazil                    22.0\n",
       "Bulgaria                  14.0\n",
       "Canada                    30.0\n",
       "Chile                     15.0\n",
       "China                     18.0\n",
       "Croatia                   20.0\n",
       "Cyprus                    16.5\n",
       "Czech Republic            18.0\n",
       "Egypt                      NaN\n",
       "England                   50.0\n",
       "France                    25.0\n",
       "Georgia                   17.5\n",
       "Germany                   27.0\n",
       "Greece                    19.0\n",
       "Hungary                   25.0\n",
       "India                     12.0\n",
       "Israel                    25.0\n",
       "Italy                     30.0\n",
       "Lebanon                   25.0\n",
       "Luxembourg                23.0\n",
       "Macedonia                 15.0\n",
       "Mexico                    23.0\n",
       "Moldova                   13.0\n",
       "Morocco                   18.0\n",
       "New Zealand               21.0\n",
       "Peru                      14.5\n",
       "Portugal                  17.0\n",
       "Romania                    9.0\n",
       "Serbia                    21.0\n",
       "Slovakia                  16.0\n",
       "Slovenia                  22.0\n",
       "South Africa              19.0\n",
       "Spain                     18.0\n",
       "Switzerland               34.0\n",
       "Turkey                    20.0\n",
       "US                        30.0\n",
       "Ukraine                    9.0\n",
       "Unknown                   25.0\n",
       "Uruguay                   20.0\n",
       "Name: price, dtype: float64"
      ]
     },
     "execution_count": 18,
     "metadata": {},
     "output_type": "execute_result"
    }
   ],
   "source": [
    "medians = wine.groupby(['country']).price.median()\n",
    "medians"
   ]
  },
  {
   "cell_type": "code",
   "execution_count": 19,
   "metadata": {},
   "outputs": [
    {
     "name": "stdout",
     "output_type": "stream",
     "text": [
      "country        0\n",
      "description    0\n",
      "designation    0\n",
      "points         0\n",
      "price          0\n",
      "province       0\n",
      "region_1       0\n",
      "region_2       0\n",
      "taster_name    0\n",
      "title          0\n",
      "variety        0\n",
      "winery         0\n",
      "dtype: int64\n"
     ]
    }
   ],
   "source": [
    "# TODO BECAREFUL WITH \"UNKNOWN\", what to do with rows with no countries?\n",
    "\n",
    "# Get the median price per country and fill n/a price values based on their country\n",
    "wine['price'] = wine['price'].fillna(wine.groupby('country')['price'].transform('median'))\n",
    "\n",
    "# add total median price for Egypt and Tunisia since they have no value prices information for their countries\n",
    "wine['price'] = wine['price'].fillna(wine['price'].median())\n",
    "print(wine.isna().sum())"
   ]
  },
  {
   "cell_type": "code",
   "execution_count": 24,
   "metadata": {},
   "outputs": [],
   "source": [
    "# wine.to_csv('./wine-reviews/winemag-data-130k-v4.csv', mode='w',header=True)\n",
    "wine.to_csv('./wine-reviews/cleaned-data-with-tasters.csv', mode='w',header=True)"
   ]
  },
  {
   "cell_type": "code",
   "execution_count": 25,
   "metadata": {},
   "outputs": [
    {
     "name": "stdout",
     "output_type": "stream",
     "text": [
      "Number of rows and columns: (95071, 12)\n"
     ]
    },
    {
     "data": {
      "text/plain": [
       "country        0\n",
       "description    0\n",
       "designation    0\n",
       "points         0\n",
       "price          0\n",
       "province       0\n",
       "region_1       0\n",
       "region_2       0\n",
       "taster_name    0\n",
       "title          0\n",
       "variety        0\n",
       "winery         0\n",
       "dtype: int64"
      ]
     },
     "execution_count": 25,
     "metadata": {},
     "output_type": "execute_result"
    }
   ],
   "source": [
    "# wine = pd.read_csv('winemag-data-130k-v4.csv',index_col=0)\n",
    "wine = pd.read_csv('./wine-reviews/cleaned-data-with-tasters.csv',index_col=0)\n",
    "print(\"Number of rows and columns:\",wine.shape)\n",
    "wine.isna().sum()"
   ]
  },
  {
   "cell_type": "code",
   "execution_count": null,
   "metadata": {},
   "outputs": [],
   "source": []
  }
 ],
 "metadata": {
  "kernelspec": {
   "display_name": "Python 3",
   "language": "python",
   "name": "python3"
  },
  "language_info": {
   "codemirror_mode": {
    "name": "ipython",
    "version": 3
   },
   "file_extension": ".py",
   "mimetype": "text/x-python",
   "name": "python",
   "nbconvert_exporter": "python",
   "pygments_lexer": "ipython3",
   "version": "3.7.6"
  }
 },
 "nbformat": 4,
 "nbformat_minor": 4
}
